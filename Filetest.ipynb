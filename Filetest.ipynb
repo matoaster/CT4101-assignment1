{
 "cells": [
  {
   "cell_type": "code",
   "execution_count": 2,
   "id": "3ee5b508-2372-4b30-aba3-ac60b84cbdf7",
   "metadata": {},
   "outputs": [],
   "source": [
    "# https://github.com/matoaster/CT4101-assignment1.git\n",
    "import pandas as pd\n",
    "import numpy as np\n",
    "import matplotlib.pyplot as plt"
   ]
  },
  {
   "cell_type": "code",
   "execution_count": 3,
   "id": "cf4db9f2-4f8d-4f3a-a456-855ab48de561",
   "metadata": {},
   "outputs": [],
   "source": [
    "# Training and testing data\n",
    "training_data = pd.read_csv(\"wildfires_training.csv\")\n",
    "test_data = pd.read_csv(\"wildfires_test.csv\")"
   ]
  },
  {
   "cell_type": "code",
   "execution_count": 31,
   "id": "faf64f0c-88c3-48ab-882a-8e359a2a70b2",
   "metadata": {},
   "outputs": [
    {
     "name": "stdout",
     "output_type": "stream",
     "text": [
      "Accuracy:  0.82 \n",
      " Accuracy:  0.9\n",
      "              precision    recall  f1-score   support\n",
      "\n",
      "          no       0.76      0.86      0.81        22\n",
      "         yes       0.88      0.79      0.83        28\n",
      "\n",
      "    accuracy                           0.82        50\n",
      "   macro avg       0.82      0.82      0.82        50\n",
      "weighted avg       0.83      0.82      0.82        50\n",
      " \n",
      "\n",
      "              precision    recall  f1-score   support\n",
      "\n",
      "          no       0.95      0.82      0.88        22\n",
      "         yes       0.87      0.96      0.92        28\n",
      "\n",
      "    accuracy                           0.90        50\n",
      "   macro avg       0.91      0.89      0.90        50\n",
      "weighted avg       0.90      0.90      0.90        50\n",
      " \n",
      "\n"
     ]
    }
   ],
   "source": [
    "# Split the data between the fire feature, the feature we want to predict \n",
    "# and the other features\n",
    "X_training = training_data.drop(columns=['fire'])\n",
    "y_training = training_data['fire']\n",
    "X_testing = test_data.drop(columns=['fire'])\n",
    "y_testing = test_data['fire']\n",
    "\n",
    "# Tried to see if SVM's would work without first scaling data. Numerous sources say \n",
    "# is crucial and my accuracy was stuck at 0.56 without any preprocessing.\n",
    "\n",
    "# Source: https://www.geeksforgeeks.org/machine-learning/how-to-make-better-models-in-python-using-svm-classifier-and-rbf-kernel/\n",
    "from sklearn.preprocessing import StandardScaler\n",
    "scaler = StandardScaler()\n",
    "X_training_scaled = scaler.fit_transform(X_training)\n",
    "X_testing_scaled = scaler.fit_transform(X_testing)\n",
    "\n",
    "from sklearn.svm import SVC\n",
    "\n",
    "# Highest accuracy I can obtain with 'rbf' kernel = 0.82\n",
    "model = SVC(kernel='rbf', C=100, gamma=0.001)\n",
    "#Trying fitting with a linear kernel. Accuracy seems much higher @ 0.9.\n",
    "model2 = SVC(kernel='linear', C=10, gamma=1)\n",
    "model2.fit(X_training_scaled, y_training)\n",
    "model.fit(X_training_scaled, y_training)\n",
    "\n",
    "from sklearn.metrics import accuracy_score\n",
    "\n",
    "y_pred = model.predict(X_testing_scaled)\n",
    "y2_pred = model2.predict(X_testing_scaled)\n",
    "accuracy = accuracy_score(y_testing, y_pred)\n",
    "accuracy2 = accuracy_score(y_testing, y2_pred)\n",
    "print(\"Accuracy: \", accuracy, \"\\n Accuracy: \", accuracy2)\n",
    "\n",
    "# comparing classification reports with linear and \n",
    "classification_rep_svm1 = classification_report(y_testing, y_pred)\n",
    "classification_rep_svm2 = classification_report(y_testing, y2_pred)\n",
    "\n",
    "print(f'{classification_rep_svm1} \\n')\n",
    "print(f'{classification_rep_svm2} \\n')"
   ]
  },
  {
   "cell_type": "code",
   "execution_count": 30,
   "id": "1e4a2a11-d41f-47db-a03f-850184cd779b",
   "metadata": {},
   "outputs": [
    {
     "name": "stdout",
     "output_type": "stream",
     "text": [
      "Accuracy: 0.82\n",
      "\n",
      " Classification Report: \n",
      "               precision    recall  f1-score   support\n",
      "\n",
      "          no       0.76      1.00      0.86        22\n",
      "         yes       1.00      0.75      0.86        28\n",
      "\n",
      "    accuracy                           0.86        50\n",
      "   macro avg       0.88      0.88      0.86        50\n",
      "weighted avg       0.89      0.86      0.86        50\n",
      "\n",
      "\n",
      "Sample: {'year': 2017.0, 'temp': 31.0, 'humidity': 72.0, 'rainfall': 0.3, 'drought_code': 30.47, 'buildup_index': 5.63, 'day': 7.0, 'month': 9.0, 'wind_speed': 17.0}\n",
      "\n",
      "Predicted Fire: No Fire\n"
     ]
    }
   ],
   "source": [
    "from sklearn.ensemble import RandomForestClassifier\n",
    "from sklearn.metrics import classification_report\n",
    "\n",
    "# Looking simple code to understand how Random Forest works from a programming point of view.\n",
    "rf_classifier = RandomForestClassifier(n_estimators=10, max_depth=None, random_state=5)\n",
    "rf_classifier.fit(X_training, y_training)\n",
    "y_pred_rf = rf_classifier.predict(X_testing)\n",
    "\n",
    "# From code I have seen online the procedure between SVM and random forest\n",
    "# seems similar.\n",
    "rf_accuracy = accuracy_score(y_testing, y_pred_rf)\n",
    "classification_rep = classification_report(y_testing, y_pred_rf)\n",
    "\n",
    "#i.e accuracy - classification report\n",
    "print(f\"Accuracy: {accuracy:.2f}\")\n",
    "print(\"\\n Classification Report: \\n\", classification_rep)\n",
    "\n",
    "# take a sample from dataset to predict.\n",
    "sample = X_testing.iloc[4:5]\n",
    "prediction = rf_classifier.predict(sample)\n",
    "\n",
    "# TODO: need to figure out how to make random forest a better predictor. At the moment with this code \n",
    "# It sits at a 64% accuracy. Which is slightly better than guessing, but not by much.\n",
    "sample_dict = sample.iloc[0].to_dict()\n",
    "print(f\"\\nSample: {sample_dict}\")\n",
    "print(f\"\\nPredicted Fire: {'fire' if prediction[0] == 1 else 'No Fire'}\")"
   ]
  },
  {
   "cell_type": "code",
   "execution_count": null,
   "id": "9c6d13ce-5d74-4091-9eec-688fe6c0faab",
   "metadata": {},
   "outputs": [],
   "source": []
  }
 ],
 "metadata": {
  "kernelspec": {
   "display_name": "Python 3.12",
   "language": "python",
   "name": "python312"
  },
  "language_info": {
   "codemirror_mode": {
    "name": "ipython",
    "version": 3
   },
   "file_extension": ".py",
   "mimetype": "text/x-python",
   "name": "python",
   "nbconvert_exporter": "python",
   "pygments_lexer": "ipython3",
   "version": "3.12.8"
  }
 },
 "nbformat": 4,
 "nbformat_minor": 5
}
