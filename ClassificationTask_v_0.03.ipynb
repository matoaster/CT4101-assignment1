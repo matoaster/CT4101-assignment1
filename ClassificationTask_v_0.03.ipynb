{
 "cells": [
  {
   "cell_type": "code",
   "execution_count": 21,
   "id": "3ee5b508-2372-4b30-aba3-ac60b84cbdf7",
   "metadata": {},
   "outputs": [],
   "source": [
    "# https://github.com/matoaster/CT4101-assignment1.git\n",
    "import pandas as pd\n",
    "import numpy as np\n",
    "import matplotlib.pyplot as plt\n",
    "from sklearn.ensemble import RandomForestClassifier\n",
    "from sklearn.metrics import classification_report\n",
    "from sklearn.svm import SVC\n",
    "from sklearn.preprocessing import StandardScaler\n",
    "from sklearn.metrics import accuracy_score\n"
   ]
  },
  {
   "cell_type": "code",
   "execution_count": 22,
   "id": "cf4db9f2-4f8d-4f3a-a456-855ab48de561",
   "metadata": {},
   "outputs": [],
   "source": [
    "# Training and testing data\n",
    "training_data = pd.read_csv(\"wildfires_training.csv\")\n",
    "test_data = pd.read_csv(\"wildfires_test.csv\")"
   ]
  },
  {
   "cell_type": "code",
   "execution_count": 23,
   "id": "faf64f0c-88c3-48ab-882a-8e359a2a70b2",
   "metadata": {},
   "outputs": [],
   "source": [
    "# Split the data between the fire feature, the feature we want to predict \n",
    "# and the other features\n",
    "X_training = training_data.drop(columns=['fire'])\n",
    "y_training = training_data['fire']\n",
    "X_testing = test_data.drop(columns=['fire'])\n",
    "y_testing = test_data['fire']\n",
    "\n",
    "# Scaling the data \"standardizes\" it \n",
    "# by removing the mean and scaling to the unit variance.\n",
    "from sklearn.preprocessing import StandardScaler\n",
    "scaler = StandardScaler()\n",
    "X_training_scaled = scaler.fit_transform(X_training)\n",
    "X_testing_scaled = scaler.transform(X_testing)\n",
    "# Source: https://www.geeksforgeeks.org/machine-learning/how-to-make-better-models-in-python-using-svm-classifier-and-rbf-kernel/\n"
   ]
  },
  {
   "cell_type": "code",
   "execution_count": 32,
   "id": "9c6d13ce-5d74-4091-9eec-688fe6c0faab",
   "metadata": {},
   "outputs": [
    {
     "name": "stdout",
     "output_type": "stream",
     "text": [
      "Best Testing RBF Results: C=1000.0, gamma=0.001, accuracy=0.88\n",
      "Best Training RBF Results: C=1000.0, gamma=0.1, accuracy=0.9155844155844156\n",
      "---------------------------------------\n",
      "Best Testing Linear Results: C=10.0, accuracy=0.9\n",
      "Best Training Linear Results: C=100.0, accuracy=0.922077922077922\n"
     ]
    }
   ],
   "source": [
    "# Now try all different hyperparameters together for SVM.\n",
    "# Test C and gamma on logarithmic scale\n",
    "\n",
    "C_vals = [0.001, 0.01, 0.1, 1, 10, 100, 1000]\n",
    "gamma_vals = [0.0001, 0.001, 0.01, 0.1, 1]\n",
    "\n",
    "# create a d\n",
    "SVM_results = []\n",
    "\n",
    "for C in C_vals:\n",
    "    for gamma in gamma_vals:\n",
    "        model_1 = SVC(kernel='rbf', C=C, gamma=gamma)\n",
    "        model_1.fit(X_training_scaled, y_training)\n",
    "        testing_accuracy= model_1.score(X_testing_scaled, y_testing)\n",
    "        training_accuracy= model_1.score(X_training_scaled, y_training)\n",
    "        #print(f\"C={C}, gamma={gamma}, testing accuracy={testing_accuracy:.3f}, training_accuracy ={training_accuracy:.3f}\")\n",
    "        SVM_results.append({\n",
    "            \"kernel\":\"rbf\",\"C\":C,\"gamma\":gamma,\"training_accuracy\":training_accuracy,\"testing_accuracy\":testing_accuracy})\n",
    "        \n",
    "for C in C_vals:\n",
    "        model_2 = SVC(kernel='linear', C=C)\n",
    "        model_2.fit(X_training_scaled, y_training)\n",
    "        testing_accuracy = model_2.score(X_testing_scaled, y_testing)\n",
    "        training_accuracy = model_2.score(X_training_scaled, y_training)\n",
    "        #print(f\"C={C}, testing accuracy={testing_accuracy:.3f}, training accuracy={training_accuracy:.3f}\")\n",
    "        SVM_results.append({\n",
    "            \"kernel\":\"linear\",\"C\":C,\"gamma\":np.nan,\"training_accuracy\":training_accuracy,\"testing_accuracy\":testing_accuracy})\n",
    "# We can see from these results here that when the kernel=rbf, accuracy peaks at 0.88 with C = 1000, gamma=0.001\n",
    "# and with kernel=linear, accuracy peaks at 0.900 with numerous different entries. Now it's time to plot them\n",
    "\n",
    "# Save the results from SVM algorithms to a dataframe\n",
    "SVM_df = pd.DataFrame(SVM_results)\n",
    "\n",
    "# Pick out best results from rbf and linear kernels\n",
    "best_test_result_rbf = SVM_df[SVM_df.kernel==\"rbf\"].sort_values(\"testing_accuracy\", ascending = False).iloc[0]\n",
    "best_train_result_rbf = SVM_df[SVM_df.kernel==\"rbf\"].sort_values(\"training_accuracy\", ascending = False).iloc[0]\n",
    "\n",
    "best_test_result_linear = SVM_df[SVM_df.kernel==\"linear\"].sort_values(\"testing_accuracy\", ascending = False).iloc[0]\n",
    "best_train_result_linear = SVM_df[SVM_df.kernel==\"linear\"].sort_values(\"training_accuracy\", ascending = False).iloc[0]\n",
    "\n",
    "# Print out best achieved results for each testing, training, linear rbf. sort in des\n",
    "print(f\"Best Testing RBF Results: C={best_test_result_rbf.C}, gamma={best_test_result_rbf.gamma}, accuracy={best_test_result_rbf.testing_accuracy}\")\n",
    "print(f\"Best Training RBF Results: C={best_train_result_rbf.C}, gamma={best_train_result_rbf.gamma}, accuracy={best_test_result_rbf.training_accuracy}\")\n",
    "print(\"---------------------------------------\")\n",
    "print(f\"Best Testing Linear Results: C={best_test_result_linear.C}, accuracy={best_test_result_linear.testing_accuracy}\")\n",
    "print(f\"Best Training Linear Results: C={best_train_result_linear.C}, accuracy={best_test_result_linear.training_accuracy}\")"
   ]
  },
  {
   "cell_type": "code",
   "execution_count": null,
   "id": "d70308b7-5092-4959-859f-f22a3151e028",
   "metadata": {},
   "outputs": [],
   "source": []
  },
  {
   "cell_type": "code",
   "execution_count": 9,
   "id": "1e4a2a11-d41f-47db-a03f-850184cd779b",
   "metadata": {},
   "outputs": [
    {
     "name": "stdout",
     "output_type": "stream",
     "text": [
      "Accuracy: 0.82\n",
      "\n",
      " Classification Report: \n",
      "               precision    recall  f1-score   support\n",
      "\n",
      "          no       0.76      1.00      0.86        22\n",
      "         yes       1.00      0.75      0.86        28\n",
      "\n",
      "    accuracy                           0.86        50\n",
      "   macro avg       0.88      0.88      0.86        50\n",
      "weighted avg       0.89      0.86      0.86        50\n",
      "\n",
      "\n",
      "Sample: {'year': 2017.0, 'temp': 31.0, 'humidity': 72.0, 'rainfall': 0.3, 'drought_code': 30.47, 'buildup_index': 5.63, 'day': 7.0, 'month': 9.0, 'wind_speed': 17.0}\n"
     ]
    }
   ],
   "source": [
    "\n",
    "\n",
    "# Looking simple code to understand how Random Forest works from a programming point of view.\n",
    "rf_classifier = RandomForestClassifier(n_estimators=10, max_depth=None, random_state=5)\n",
    "rf_classifier.fit(X_training, y_training)\n",
    "y_pred_rf = rf_classifier.predict(X_testing)\n",
    "\n",
    "# From code I have seen online the procedure between SVM and random forest\n",
    "# seems similar.\n",
    "rf_accuracy = accuracy_score(y_testing, y_pred_rf)\n",
    "classification_rep = classification_report(y_testing, y_pred_rf)\n",
    "\n",
    "#i.e accuracy - classification report\n",
    "print(f\"Accuracy: {accuracy:.2f}\")\n",
    "print(\"\\n Classification Report: \\n\", classification_rep)\n",
    "\n",
    "# take a sample from dataset to predict.\n",
    "sample = X_testing.iloc[4:5]\n",
    "prediction = rf_classifier.predict(sample)\n",
    "\n",
    "# TODO: need to figure out how to make random forest a better predictor. At the moment with this code \n",
    "# It sits at a 64% accuracy. Which is slightly better than guessing, but not by much.\n",
    "sample_dict = sample.iloc[0].to_dict()\n",
    "print(f\"\\nSample: {sample_dict}\")"
   ]
  }
 ],
 "metadata": {
  "kernelspec": {
   "display_name": "Python 3.12",
   "language": "python",
   "name": "python312"
  },
  "language_info": {
   "codemirror_mode": {
    "name": "ipython",
    "version": 3
   },
   "file_extension": ".py",
   "mimetype": "text/x-python",
   "name": "python",
   "nbconvert_exporter": "python",
   "pygments_lexer": "ipython3",
   "version": "3.12.8"
  }
 },
 "nbformat": 4,
 "nbformat_minor": 5
}
