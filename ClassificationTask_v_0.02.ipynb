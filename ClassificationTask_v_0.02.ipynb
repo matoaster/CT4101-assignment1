{
 "cells": [
  {
   "cell_type": "code",
   "execution_count": 1,
   "id": "3ee5b508-2372-4b30-aba3-ac60b84cbdf7",
   "metadata": {},
   "outputs": [],
   "source": [
    "# https://github.com/matoaster/CT4101-assignment1.git\n",
    "import pandas as pd\n",
    "import numpy as np\n",
    "import matplotlib.pyplot as plt\n",
    "from sklearn.ensemble import RandomForestClassifier\n",
    "from sklearn.metrics import classification_report\n",
    "from sklearn.svm import SVC\n",
    "from sklearn.preprocessing import StandardScaler\n",
    "from sklearn.metrics import accuracy_score\n"
   ]
  },
  {
   "cell_type": "code",
   "execution_count": 4,
   "id": "cf4db9f2-4f8d-4f3a-a456-855ab48de561",
   "metadata": {},
   "outputs": [],
   "source": [
    "# Training and testing data\n",
    "training_data = pd.read_csv(\"wildfires_training.csv\")\n",
    "test_data = pd.read_csv(\"wildfires_test.csv\")"
   ]
  },
  {
   "cell_type": "code",
   "execution_count": 18,
   "id": "faf64f0c-88c3-48ab-882a-8e359a2a70b2",
   "metadata": {},
   "outputs": [],
   "source": [
    "# Split the data between the fire feature, the feature we want to predict \n",
    "# and the other features\n",
    "X_training = training_data.drop(columns=['fire'])\n",
    "y_training = training_data['fire']\n",
    "X_testing = test_data.drop(columns=['fire'])\n",
    "y_testing = test_data['fire']\n",
    "\n",
    "# Scaling the data \"standardizes\" it \n",
    "# by removing the mean and scaling to the unit variance.\n",
    "from sklearn.preprocessing import StandardScaler\n",
    "scaler = StandardScaler()\n",
    "X_training_scaled = scaler.fit_transform(X_training)\n",
    "X_testing_scaled = scaler.transform(X_testing)\n",
    "# Source: https://www.geeksforgeeks.org/machine-learning/how-to-make-better-models-in-python-using-svm-classifier-and-rbf-kernel/\n"
   ]
  },
  {
   "cell_type": "code",
   "execution_count": 19,
   "id": "9c6d13ce-5d74-4091-9eec-688fe6c0faab",
   "metadata": {},
   "outputs": [
    {
     "name": "stdout",
     "output_type": "stream",
     "text": [
      "C=0.001, gamma=0.0001, testing accuracy=0.560, training_accuracy =0.513\n",
      "C=0.001, gamma=0.001, testing accuracy=0.560, training_accuracy =0.513\n",
      "C=0.001, gamma=0.01, testing accuracy=0.560, training_accuracy =0.513\n",
      "C=0.001, gamma=0.1, testing accuracy=0.560, training_accuracy =0.513\n",
      "C=0.001, gamma=1, testing accuracy=0.560, training_accuracy =0.513\n",
      "C=0.01, gamma=0.0001, testing accuracy=0.560, training_accuracy =0.513\n",
      "C=0.01, gamma=0.001, testing accuracy=0.560, training_accuracy =0.513\n",
      "C=0.01, gamma=0.01, testing accuracy=0.560, training_accuracy =0.513\n",
      "C=0.01, gamma=0.1, testing accuracy=0.560, training_accuracy =0.513\n",
      "C=0.01, gamma=1, testing accuracy=0.560, training_accuracy =0.513\n",
      "C=0.1, gamma=0.0001, testing accuracy=0.560, training_accuracy =0.513\n",
      "C=0.1, gamma=0.001, testing accuracy=0.560, training_accuracy =0.513\n",
      "C=0.1, gamma=0.01, testing accuracy=0.800, training_accuracy =0.831\n",
      "C=0.1, gamma=0.1, testing accuracy=0.740, training_accuracy =0.831\n",
      "C=0.1, gamma=1, testing accuracy=0.560, training_accuracy =0.513\n",
      "C=1, gamma=0.0001, testing accuracy=0.560, training_accuracy =0.513\n",
      "C=1, gamma=0.001, testing accuracy=0.740, training_accuracy =0.831\n",
      "C=1, gamma=0.01, testing accuracy=0.740, training_accuracy =0.857\n",
      "C=1, gamma=0.1, testing accuracy=0.800, training_accuracy =0.922\n",
      "C=1, gamma=1, testing accuracy=0.700, training_accuracy =1.000\n",
      "C=10, gamma=0.0001, testing accuracy=0.760, training_accuracy =0.831\n",
      "C=10, gamma=0.001, testing accuracy=0.740, training_accuracy =0.851\n",
      "C=10, gamma=0.01, testing accuracy=0.820, training_accuracy =0.909\n",
      "C=10, gamma=0.1, testing accuracy=0.740, training_accuracy =0.948\n",
      "C=10, gamma=1, testing accuracy=0.660, training_accuracy =1.000\n",
      "C=100, gamma=0.0001, testing accuracy=0.740, training_accuracy =0.851\n",
      "C=100, gamma=0.001, testing accuracy=0.820, training_accuracy =0.896\n",
      "C=100, gamma=0.01, testing accuracy=0.840, training_accuracy =0.935\n",
      "C=100, gamma=0.1, testing accuracy=0.700, training_accuracy =1.000\n",
      "C=100, gamma=1, testing accuracy=0.660, training_accuracy =1.000\n",
      "C=1000, gamma=0.0001, testing accuracy=0.820, training_accuracy =0.896\n",
      "C=1000, gamma=0.001, testing accuracy=0.880, training_accuracy =0.916\n",
      "C=1000, gamma=0.01, testing accuracy=0.860, training_accuracy =0.955\n",
      "C=1000, gamma=0.1, testing accuracy=0.720, training_accuracy =1.000\n",
      "C=1000, gamma=1, testing accuracy=0.660, training_accuracy =1.000\n",
      "\n",
      "--------------------------------------\n",
      "C=0.001, testing accuracy=0.580, training accuracy=0.565\n",
      "C=0.01, testing accuracy=0.740, training accuracy=0.838\n",
      "C=0.1, testing accuracy=0.820, training accuracy=0.870\n",
      "C=1, testing accuracy=0.840, training accuracy=0.909\n",
      "C=10, testing accuracy=0.900, training accuracy=0.922\n",
      "C=100, testing accuracy=0.900, training accuracy=0.929\n",
      "C=1000, testing accuracy=0.860, training accuracy=0.909\n"
     ]
    }
   ],
   "source": [
    "# Now try all different hyperparameters together for SVM.\n",
    "# Test C and gamma on logarithmic scale\n",
    "\n",
    "C_vals = [0.001, 0.01, 0.1, 1, 10, 100, 1000]\n",
    "gamma_vals = [0.0001, 0.001, 0.01, 0.1, 1]\n",
    "\n",
    "for C in C_vals:\n",
    "    for gamma in gamma_vals:\n",
    "        model_1 = SVC(kernel='rbf', C=C, gamma=gamma)\n",
    "        model_1.fit(X_training_scaled, y_training)\n",
    "        testing_accuracy= model_1.score(X_testing_scaled, y_testing)\n",
    "        training_accuracy= model_1.score(X_training_scaled, y_training)\n",
    "        print(f\"C={C}, gamma={gamma}, testing accuracy={testing_accuracy:.3f}, training_accuracy ={training_accuracy:.3f}\")\n",
    "print('\\n--------------------------------------')\n",
    "for C in C_vals:\n",
    "        model_2 = SVC(kernel='linear', C=C)\n",
    "        model_2.fit(X_training_scaled, y_training)\n",
    "        testing_accuracy = model_2.score(X_testing_scaled, y_testing)\n",
    "        training_accuracy = model_2.score(X_training_scaled, y_training)\n",
    "        print(f\"C={C}, testing accuracy={testing_accuracy:.3f}, training accuracy={training_accuracy:.3f}\")\n",
    "\n",
    "# We can see from these results here that when the kernel=rbf, accuracy peaks at 0.88 with C = 1000, gamma=0.001\n",
    "# and with kernel=linear, accuracy peaks at 0.900 with numerous different entries. Now it's time to plot them\n",
    "\n"
   ]
  },
  {
   "cell_type": "code",
   "execution_count": null,
   "id": "d70308b7-5092-4959-859f-f22a3151e028",
   "metadata": {},
   "outputs": [],
   "source": []
  },
  {
   "cell_type": "code",
   "execution_count": 9,
   "id": "1e4a2a11-d41f-47db-a03f-850184cd779b",
   "metadata": {},
   "outputs": [
    {
     "name": "stdout",
     "output_type": "stream",
     "text": [
      "Accuracy: 0.82\n",
      "\n",
      " Classification Report: \n",
      "               precision    recall  f1-score   support\n",
      "\n",
      "          no       0.76      1.00      0.86        22\n",
      "         yes       1.00      0.75      0.86        28\n",
      "\n",
      "    accuracy                           0.86        50\n",
      "   macro avg       0.88      0.88      0.86        50\n",
      "weighted avg       0.89      0.86      0.86        50\n",
      "\n",
      "\n",
      "Sample: {'year': 2017.0, 'temp': 31.0, 'humidity': 72.0, 'rainfall': 0.3, 'drought_code': 30.47, 'buildup_index': 5.63, 'day': 7.0, 'month': 9.0, 'wind_speed': 17.0}\n"
     ]
    }
   ],
   "source": [
    "\n",
    "\n",
    "# Looking simple code to understand how Random Forest works from a programming point of view.\n",
    "rf_classifier = RandomForestClassifier(n_estimators=10, max_depth=None, random_state=5)\n",
    "rf_classifier.fit(X_training, y_training)\n",
    "y_pred_rf = rf_classifier.predict(X_testing)\n",
    "\n",
    "# From code I have seen online the procedure between SVM and random forest\n",
    "# seems similar.\n",
    "rf_accuracy = accuracy_score(y_testing, y_pred_rf)\n",
    "classification_rep = classification_report(y_testing, y_pred_rf)\n",
    "\n",
    "#i.e accuracy - classification report\n",
    "print(f\"Accuracy: {accuracy:.2f}\")\n",
    "print(\"\\n Classification Report: \\n\", classification_rep)\n",
    "\n",
    "# take a sample from dataset to predict.\n",
    "sample = X_testing.iloc[4:5]\n",
    "prediction = rf_classifier.predict(sample)\n",
    "\n",
    "# TODO: need to figure out how to make random forest a better predictor. At the moment with this code \n",
    "# It sits at a 64% accuracy. Which is slightly better than guessing, but not by much.\n",
    "sample_dict = sample.iloc[0].to_dict()\n",
    "print(f\"\\nSample: {sample_dict}\")"
   ]
  }
 ],
 "metadata": {
  "kernelspec": {
   "display_name": "Python 3.12",
   "language": "python",
   "name": "python312"
  },
  "language_info": {
   "codemirror_mode": {
    "name": "ipython",
    "version": 3
   },
   "file_extension": ".py",
   "mimetype": "text/x-python",
   "name": "python",
   "nbconvert_exporter": "python",
   "pygments_lexer": "ipython3",
   "version": "3.12.8"
  }
 },
 "nbformat": 4,
 "nbformat_minor": 5
}
